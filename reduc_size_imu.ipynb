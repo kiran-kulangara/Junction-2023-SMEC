{
 "cells": [
  {
   "cell_type": "code",
   "execution_count": 1,
   "metadata": {},
   "outputs": [],
   "source": [
    "# input_file = 'Data/walking/AFE_000_CONFIDENTIAL.json'"
   ]
  },
  {
   "cell_type": "code",
   "execution_count": 3,
   "metadata": {},
   "outputs": [],
   "source": [
    "import json\n",
    "\n",
    "def reduce_json_data(input_file, output_file, max_records=100):\n",
    "    with open(input_file, 'r') as file:\n",
    "        data = json.load(file)\n",
    "\n",
    "    # Truncate the data to max_records\n",
    "    truncated_data = data[:max_records]\n",
    "\n",
    "    # # Process each record in truncated data\n",
    "    # for record in truncated_data:\n",
    "    #     # Keep only the first three values in 'v'\n",
    "    #     record['v'] = record['v'][:3]\n",
    "\n",
    "    # Write the processed data to a new file\n",
    "    with open(output_file, 'w') as file:\n",
    "        json.dump(truncated_data, file, indent=4)\n",
    "\n",
    "# Usage\n",
    "# input_file = 'your_input_file.json'  # Replace with your input file name\n",
    "output_file = 'reduced_data_AFE.json'    # The file where reduced data will be saved\n",
    "\n",
    "reduce_json_data(input_file, output_file)\n"
   ]
  },
  {
   "cell_type": "code",
   "execution_count": null,
   "metadata": {},
   "outputs": [],
   "source": [
    "\n"
   ]
  }
 ],
 "metadata": {
  "kernelspec": {
   "display_name": ".venv",
   "language": "python",
   "name": "python3"
  },
  "language_info": {
   "codemirror_mode": {
    "name": "ipython",
    "version": 3
   },
   "file_extension": ".py",
   "mimetype": "text/x-python",
   "name": "python",
   "nbconvert_exporter": "python",
   "pygments_lexer": "ipython3",
   "version": "3.10.9"
  }
 },
 "nbformat": 4,
 "nbformat_minor": 2
}
